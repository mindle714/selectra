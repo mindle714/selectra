{
 "cells": [
  {
   "cell_type": "code",
   "execution_count": 3,
   "metadata": {},
   "outputs": [],
   "source": [
    "import torch\n",
    "import torch.nn as nn"
   ]
  },
  {
   "cell_type": "code",
   "execution_count": 25,
   "metadata": {},
   "outputs": [
    {
     "name": "stdout",
     "output_type": "stream",
     "text": [
      "torch.Size([16, 200, 8])\n",
      "torch.Size([16, 200, 768])\n"
     ]
    }
   ],
   "source": [
    "n_q = 8\n",
    "emb = nn.Embedding(1024, 768)\n",
    "x = torch.randint(5, size=(16, 200, n_q)) \n",
    "print(x.size())\n",
    "embed = emb(x.int())\n",
    "ln = nn.Linear(n_q, 1)\n",
    "embed = ln(embed.permute(0,1,3,2)).squeeze(-1)\n",
    "print(embed.size())"
   ]
  },
  {
   "cell_type": "code",
   "execution_count": 27,
   "metadata": {},
   "outputs": [
    {
     "name": "stdout",
     "output_type": "stream",
     "text": [
      "torch.Size([16, 200, 1])\n"
     ]
    }
   ],
   "source": [
    "print(embed[:,:,:1].size())"
   ]
  },
  {
   "cell_type": "code",
   "execution_count": null,
   "metadata": {},
   "outputs": [],
   "source": []
  }
 ],
 "metadata": {
  "kernelspec": {
   "display_name": ".venv",
   "language": "python",
   "name": "python3"
  },
  "language_info": {
   "codemirror_mode": {
    "name": "ipython",
    "version": 3
   },
   "file_extension": ".py",
   "mimetype": "text/x-python",
   "name": "python",
   "nbconvert_exporter": "python",
   "pygments_lexer": "ipython3",
   "version": "3.8.10"
  }
 },
 "nbformat": 4,
 "nbformat_minor": 2
}
